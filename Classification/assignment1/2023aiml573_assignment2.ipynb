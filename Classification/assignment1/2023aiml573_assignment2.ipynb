{
 "cells": [
  {
   "cell_type": "code",
   "execution_count": 16,
   "metadata": {},
   "outputs": [],
   "source": [
    "#imports\n",
    "import numpy as np\n",
    "import pandas as pd\n",
    "import os\n",
    "import matplotlib.pyplot as plt"
   ]
  },
  {
   "cell_type": "markdown",
   "metadata": {},
   "source": [
    "Q1) Perform data loading, preprocessing by dropping any rows with 'NaN' values in the 'Class' column."
   ]
  },
  {
   "cell_type": "code",
   "execution_count": 17,
   "metadata": {},
   "outputs": [
    {
     "name": "stdout",
     "output_type": "stream",
     "text": [
      "    Area  Perimeter  MajorAxisLength  MinorAxisLength  AspectRation  \\\n",
      "0  28395    610.291       208.178117       173.888747      1.197191   \n",
      "1  28734    638.018       200.524796       182.734419      1.097356   \n",
      "\n",
      "   Eccentricity  ConvexArea  EquivDiameter    Extent  Solidity  roundness  \\\n",
      "0      0.549812       28715     190.141097  0.763923  0.988856   0.958027   \n",
      "1      0.411785       29172     191.272750  0.783968  0.984986   0.887034   \n",
      "\n",
      "   Compactness  ShapeFactor1  ShapeFactor2  ShapeFactor3  ShapeFactor4  Class  \n",
      "0     0.913358      0.007332      0.003147      0.834222      0.998724  SEKER  \n",
      "1     0.953861      0.006979      0.003564      0.909851      0.998430  SEKER  \n"
     ]
    }
   ],
   "source": [
    "#data loading\n",
    "beans_df = pd.read_excel(\"/home/preethi/Work/GITAIML/beans/Dry_Bean_Dataset.xlsx\")\n",
    "print(beans_df.head(2))\n",
    "\n"
   ]
  },
  {
   "cell_type": "code",
   "execution_count": 18,
   "metadata": {},
   "outputs": [
    {
     "name": "stdout",
     "output_type": "stream",
     "text": [
      "Index(['Area', 'Perimeter', 'MajorAxisLength', 'MinorAxisLength',\n",
      "       'AspectRation', 'Eccentricity', 'ConvexArea', 'EquivDiameter', 'Extent',\n",
      "       'Solidity', 'roundness', 'Compactness', 'ShapeFactor1', 'ShapeFactor2',\n",
      "       'ShapeFactor3', 'ShapeFactor4', 'Class'],\n",
      "      dtype='object')\n",
      "(13611, 17)\n",
      "<class 'pandas.core.frame.DataFrame'>\n",
      "RangeIndex: 13611 entries, 0 to 13610\n",
      "Data columns (total 17 columns):\n",
      " #   Column           Non-Null Count  Dtype  \n",
      "---  ------           --------------  -----  \n",
      " 0   Area             13611 non-null  int64  \n",
      " 1   Perimeter        13611 non-null  float64\n",
      " 2   MajorAxisLength  13611 non-null  float64\n",
      " 3   MinorAxisLength  13611 non-null  float64\n",
      " 4   AspectRation     13611 non-null  float64\n",
      " 5   Eccentricity     13611 non-null  float64\n",
      " 6   ConvexArea       13611 non-null  int64  \n",
      " 7   EquivDiameter    13611 non-null  float64\n",
      " 8   Extent           13611 non-null  float64\n",
      " 9   Solidity         13611 non-null  float64\n",
      " 10  roundness        13611 non-null  float64\n",
      " 11  Compactness      13611 non-null  float64\n",
      " 12  ShapeFactor1     13611 non-null  float64\n",
      " 13  ShapeFactor2     13611 non-null  float64\n",
      " 14  ShapeFactor3     13611 non-null  float64\n",
      " 15  ShapeFactor4     13611 non-null  float64\n",
      " 16  Class            13611 non-null  object \n",
      "dtypes: float64(14), int64(2), object(1)\n",
      "memory usage: 1.8+ MB\n",
      "None\n",
      "                Area     Perimeter  MajorAxisLength  MinorAxisLength  \\\n",
      "count   13611.000000  13611.000000     13611.000000     13611.000000   \n",
      "mean    53048.284549    855.283459       320.141867       202.270714   \n",
      "std     29324.095717    214.289696        85.694186        44.970091   \n",
      "min     20420.000000    524.736000       183.601165       122.512653   \n",
      "25%     36328.000000    703.523500       253.303633       175.848170   \n",
      "50%     44652.000000    794.941000       296.883367       192.431733   \n",
      "75%     61332.000000    977.213000       376.495012       217.031741   \n",
      "max    254616.000000   1985.370000       738.860153       460.198497   \n",
      "\n",
      "       AspectRation  Eccentricity     ConvexArea  EquivDiameter        Extent  \\\n",
      "count  13611.000000  13611.000000   13611.000000   13611.000000  13611.000000   \n",
      "mean       1.583242      0.750895   53768.200206     253.064220      0.749733   \n",
      "std        0.246678      0.092002   29774.915817      59.177120      0.049086   \n",
      "min        1.024868      0.218951   20684.000000     161.243764      0.555315   \n",
      "25%        1.432307      0.715928   36714.500000     215.068003      0.718634   \n",
      "50%        1.551124      0.764441   45178.000000     238.438026      0.759859   \n",
      "75%        1.707109      0.810466   62294.000000     279.446467      0.786851   \n",
      "max        2.430306      0.911423  263261.000000     569.374358      0.866195   \n",
      "\n",
      "           Solidity     roundness   Compactness  ShapeFactor1  ShapeFactor2  \\\n",
      "count  13611.000000  13611.000000  13611.000000  13611.000000  13611.000000   \n",
      "mean       0.987143      0.873282      0.799864      0.006564      0.001716   \n",
      "std        0.004660      0.059520      0.061713      0.001128      0.000596   \n",
      "min        0.919246      0.489618      0.640577      0.002778      0.000564   \n",
      "25%        0.985670      0.832096      0.762469      0.005900      0.001154   \n",
      "50%        0.988283      0.883157      0.801277      0.006645      0.001694   \n",
      "75%        0.990013      0.916869      0.834270      0.007271      0.002170   \n",
      "max        0.994677      0.990685      0.987303      0.010451      0.003665   \n",
      "\n",
      "       ShapeFactor3  ShapeFactor4  \n",
      "count  13611.000000  13611.000000  \n",
      "mean       0.643590      0.995063  \n",
      "std        0.098996      0.004366  \n",
      "min        0.410339      0.947687  \n",
      "25%        0.581359      0.993703  \n",
      "50%        0.642044      0.996386  \n",
      "75%        0.696006      0.997883  \n",
      "max        0.974767      0.999733  \n"
     ]
    }
   ],
   "source": [
    "#describing data\n",
    "print(beans_df.columns)\n",
    "print(beans_df.shape)\n",
    "print(beans_df.info())\n",
    "print(beans_df.describe())"
   ]
  },
  {
   "cell_type": "code",
   "execution_count": 19,
   "metadata": {},
   "outputs": [
    {
     "name": "stdout",
     "output_type": "stream",
     "text": [
      "(13611, 17)\n"
     ]
    }
   ],
   "source": [
    "beans_df['Class'].isna().sum()\n",
    "# no nullpresent in class\n",
    "\n",
    "#drop  naN from class column\n",
    "beans_df.dropna(subset=['Class'],inplace=True)\n",
    "print(beans_df.shape)"
   ]
  },
  {
   "cell_type": "markdown",
   "metadata": {},
   "source": [
    "Q2) Split the dataset into features (X) and the target variable (y), and further divide into training and test sets. [Consider test_size=0.2] "
   ]
  },
  {
   "cell_type": "code",
   "execution_count": 20,
   "metadata": {},
   "outputs": [],
   "source": [
    "#Split the dataset into features (X) and the target variable (y)\n",
    "X = beans_df.drop(['Class'],axis=1)\n",
    "y = beans_df['Class']"
   ]
  },
  {
   "cell_type": "code",
   "execution_count": 21,
   "metadata": {},
   "outputs": [],
   "source": [
    "#divide into training and test sets\n",
    "from sklearn.model_selection import train_test_split\n",
    "X_train, X_test, y_train, y_test = train_test_split(\n",
    "    X, y, test_size=0.2, random_state=42,stratify=y)"
   ]
  },
  {
   "cell_type": "markdown",
   "metadata": {},
   "source": [
    "Q3) Perform data scaling and modelling."
   ]
  },
  {
   "cell_type": "code",
   "execution_count": 22,
   "metadata": {},
   "outputs": [],
   "source": [
    "#Perform data scaling\n",
    "from sklearn.preprocessing import StandardScaler\n",
    "sc = StandardScaler()\n",
    "sc.fit(X_train)\n",
    "X_train = sc.transform(X_train)\n",
    "X_test = sc.transform(X_test)\n"
   ]
  },
  {
   "cell_type": "markdown",
   "metadata": {},
   "source": [
    "Q4) Train Naive bayes and logistic regression"
   ]
  },
  {
   "cell_type": "code",
   "execution_count": 23,
   "metadata": {},
   "outputs": [
    {
     "name": "stdout",
     "output_type": "stream",
     "text": [
      "Number of mislabeled points out of a total 2723 points : 278\n"
     ]
    }
   ],
   "source": [
    "#Train Naive bayes \n",
    "from sklearn.naive_bayes import GaussianNB\n",
    "gnb = GaussianNB()\n",
    "y_predNB = gnb.fit(X_train, y_train).predict(X_test)\n",
    "print(\"Number of mislabeled points out of a total %d points : %d\"\n",
    "      % (X_test.shape[0], (y_test != y_predNB).sum()))"
   ]
  },
  {
   "cell_type": "code",
   "execution_count": 24,
   "metadata": {},
   "outputs": [
    {
     "name": "stdout",
     "output_type": "stream",
     "text": [
      "Fitting 10 folds for each of 100 candidates, totalling 1000 fits\n"
     ]
    },
    {
     "name": "stdout",
     "output_type": "stream",
     "text": [
      "Number of mislabeled points out of a total 2723 points : 278\n",
      "GaussianNB(var_smoothing=0.0023101297000831605)\n"
     ]
    }
   ],
   "source": [
    "#hyper parameter tuning\n",
    "from sklearn.model_selection import RepeatedStratifiedKFold\n",
    "from sklearn.model_selection import GridSearchCV\n",
    "cv_method = RepeatedStratifiedKFold(n_splits=5,  n_repeats=3, random_state=999)\n",
    "from sklearn.preprocessing import PowerTransformer\n",
    "param_grid_nb = {\n",
    "    'var_smoothing': np.logspace(0,-9, num=100)\n",
    "}\n",
    "nbModel_grid = GridSearchCV(estimator=GaussianNB(), param_grid=param_grid_nb, verbose=1, cv=10, n_jobs=-1)\n",
    "\n",
    "\n",
    "y_predNB = nbModel_grid.fit(X_train, y_train).predict(X_test)\n",
    "print(\"Number of mislabeled points out of a total %d points : %d\"\n",
    "      % (X_test.shape[0], (y_test != y_predNB).sum()))\n",
    "print(nbModel_grid.best_estimator_)\n"
   ]
  },
  {
   "cell_type": "code",
   "execution_count": 25,
   "metadata": {},
   "outputs": [
    {
     "name": "stdout",
     "output_type": "stream",
     "text": [
      "Number of mislabeled points out of a total 2723 points : 214\n"
     ]
    }
   ],
   "source": [
    "#train logistic regression\n",
    "from sklearn.linear_model import LogisticRegression\n",
    "\n",
    "# instantiate the model (using the default parameters)\n",
    "logreg = LogisticRegression(random_state=16)\n",
    "\n",
    "# fit the model with data\n",
    "logreg.fit(X_train, y_train)\n",
    "\n",
    "y_predLR = logreg.predict(X_test)\n",
    "print(\"Number of mislabeled points out of a total %d points : %d\"\n",
    "      % (X_test.shape[0], (y_test != y_predLR).sum()))"
   ]
  },
  {
   "cell_type": "markdown",
   "metadata": {},
   "source": [
    "Q5) Evaluate the model performance using a classification report and accuracy score and compare both the models "
   ]
  },
  {
   "cell_type": "code",
   "execution_count": 29,
   "metadata": {},
   "outputs": [
    {
     "name": "stdout",
     "output_type": "stream",
     "text": [
      "Accuracy: 0.8979067205288285\n",
      "              precision    recall  f1-score   support\n",
      "\n",
      "    BARBUNYA       0.91      0.79      0.85       265\n",
      "      BOMBAY       1.00      1.00      1.00       104\n",
      "        CALI       0.86      0.93      0.89       326\n",
      "    DERMASON       0.93      0.86      0.89       709\n",
      "       HOROZ       0.95      0.95      0.95       386\n",
      "       SEKER       0.92      0.94      0.93       406\n",
      "        SIRA       0.80      0.89      0.85       527\n",
      "\n",
      "    accuracy                           0.90      2723\n",
      "   macro avg       0.91      0.91      0.91      2723\n",
      "weighted avg       0.90      0.90      0.90      2723\n",
      "\n"
     ]
    }
   ],
   "source": [
    "# Native bayes evaluation\n",
    "from sklearn.metrics import accuracy_score\n",
    "from sklearn.metrics import classification_report\n",
    "\n",
    "# Calculate accuracy\n",
    "accuracy = accuracy_score(y_test, y_predNB)\n",
    "print(\"Accuracy:\", accuracy)\n",
    "print(classification_report(y_test, y_predNB))"
   ]
  },
  {
   "cell_type": "code",
   "execution_count": 30,
   "metadata": {},
   "outputs": [
    {
     "name": "stdout",
     "output_type": "stream",
     "text": [
      "Accuracy: 0.9214102093279471\n",
      "              precision    recall  f1-score   support\n",
      "\n",
      "    BARBUNYA       0.95      0.89      0.92       265\n",
      "      BOMBAY       1.00      1.00      1.00       104\n",
      "        CALI       0.93      0.94      0.94       326\n",
      "    DERMASON       0.92      0.91      0.92       709\n",
      "       HOROZ       0.96      0.95      0.96       386\n",
      "       SEKER       0.93      0.95      0.94       406\n",
      "        SIRA       0.85      0.88      0.86       527\n",
      "\n",
      "    accuracy                           0.92      2723\n",
      "   macro avg       0.94      0.93      0.93      2723\n",
      "weighted avg       0.92      0.92      0.92      2723\n",
      "\n"
     ]
    }
   ],
   "source": [
    "# Logistic Regression evaluation\n",
    "\n",
    "\n",
    "# Calculate accuracy\n",
    "accuracy = accuracy_score(y_test, y_predLR)\n",
    "print(\"Accuracy:\", accuracy)\n",
    "print(classification_report(y_test, y_predLR))"
   ]
  },
  {
   "cell_type": "markdown",
   "metadata": {},
   "source": [
    "Q6) Plot a confusion matrix as a heatmap, offering a visual representation of the model's performance, illustrating True Positives, True Negatives, False Positives, and False Negatives for both models."
   ]
  },
  {
   "cell_type": "code",
   "execution_count": 34,
   "metadata": {},
   "outputs": [
    {
     "data": {
      "text/plain": [
       "Text(0.5, 427.9555555555555, 'Predicted label')"
      ]
     },
     "execution_count": 34,
     "metadata": {},
     "output_type": "execute_result"
    },
    {
     "data": {
      "image/png": "[encoded data removed]",
      "text/plain": [
       "<Figure size 640x480 with 2 Axes>"
      ]
     },
     "metadata": {},
     "output_type": "display_data"
    }
   ],
   "source": [
    "# Confusion matrix with naive bayes\n",
    "import matplotlib.pyplot as plt\n",
    "import seaborn as sns\n",
    "from sklearn.metrics import confusion_matrix\n",
    "cnf_matrixNB = confusion_matrix(y_test, y_predNB)\n",
    "class_names=['BARBUNYA','BOMBAY','CALI','DERMASON','HOROZ','SEKER','SIRA'] # name  of classes\n",
    "fig, ax = plt.subplots()\n",
    "tick_marks = np.arange(len(class_names))\n",
    "plt.xticks(tick_marks, class_names)\n",
    "plt.yticks(tick_marks, class_names)\n",
    "# create heatmap\n",
    "sns.heatmap(pd.DataFrame(cnf_matrixNB), annot=True, cmap=\"YlGnBu\" ,fmt='g')\n",
    "ax.xaxis.set_label_position(\"top\")\n",
    "plt.tight_layout()\n",
    "plt.title('Confusion matrix', y=1.1)\n",
    "plt.ylabel('Actual label')\n",
    "plt.xlabel('Predicted label')"
   ]
  },
  {
   "cell_type": "code",
   "execution_count": 36,
   "metadata": {},
   "outputs": [
    {
     "data": {
      "text/plain": [
       "Text(0.5, 427.9555555555555, 'Predicted label')"
      ]
     },
     "execution_count": 36,
     "metadata": {},
     "output_type": "execute_result"
    },
    {
     "data": {
      "image/png": "[encoded data removed]",
      "text/plain": [
       "<Figure size 640x480 with 2 Axes>"
      ]
     },
     "metadata": {},
     "output_type": "display_data"
    }
   ],
   "source": [
    "# confusion matrix with Logistic Regression\n",
    "cnf_matrixLR = confusion_matrix(y_test, y_predLR)\n",
    "class_names=['BARBUNYA','BOMBAY','CALI','DERMASON','HOROZ','SEKER','SIRA'] # name  of classes\n",
    "fig, ax = plt.subplots()\n",
    "tick_marks = np.arange(len(class_names))\n",
    "plt.xticks(tick_marks, class_names)\n",
    "plt.yticks(tick_marks, class_names)\n",
    "# create heatmap\n",
    "sns.heatmap(pd.DataFrame(cnf_matrixLR), annot=True, cmap=\"YlGnBu\" ,fmt='g')\n",
    "ax.xaxis.set_label_position(\"top\")\n",
    "plt.tight_layout()\n",
    "plt.title('Confusion matrix', y=1.1)\n",
    "plt.ylabel('Actual label')\n",
    "plt.xlabel('Predicted label')\n"
   ]
  },
  {
   "cell_type": "markdown",
   "metadata": {},
   "source": [
    "Q7) Write some conclusion commenting which model is better and why ?"
   ]
  },
  {
   "cell_type": "markdown",
   "metadata": {},
   "source": [
    "Logistic regression is better suited for this problem with better accuracy and prediction scores.\n",
    "Even after hyper parameter tuning logistic regresssion model preformance is better than Naive bayes."
   ]
  }
 ],
 "metadata": {
  "kernelspec": {
   "display_name": "base",
   "language": "python",
   "name": "python3"
  },
  "language_info": {
   "codemirror_mode": {
    "name": "ipython",
    "version": 3
   },
   "file_extension": ".py",
   "mimetype": "text/x-python",
   "name": "python",
   "nbconvert_exporter": "python",
   "pygments_lexer": "ipython3",
   "version": "3.11.7"
  }
 },
 "nbformat": 4,
 "nbformat_minor": 2
}
