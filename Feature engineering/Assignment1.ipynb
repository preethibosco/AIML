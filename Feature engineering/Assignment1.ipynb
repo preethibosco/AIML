{
 "cells": [
  {
   "cell_type": "markdown",
   "metadata": {},
   "source": []
  },
  {
   "cell_type": "markdown",
   "metadata": {},
   "source": [
    "<H3>Feature Engineering Assignment on high school students dataset. <br>\n",
    "Data set has following dimensions and features Students demographics, study habits, parental involvement, extracurricular activities, and academic performance. <br>\n",
    "The target variable- GPA </H3>"
   ]
  },
  {
   "cell_type": "markdown",
   "metadata": {},
   "source": [
    " <h1 style=\"background-color:#ff6347;\">Task 1<h1><br>\n",
    " <b>Identify the type of each of the attributes in the dataset</b>\n"
   ]
  },
  {
   "cell_type": "markdown",
   "metadata": {},
   "source": [
    "<b>Steps:</b><br>\n",
    "1. Load the data frame in pandas dataframe\n",
    "2. View few data records with df.head\n",
    "3. Describe data set to get initial statistical measures\n",
    "4. View data values to identify the type of data"
   ]
  },
  {
   "cell_type": "code",
   "execution_count": 11,
   "metadata": {},
   "outputs": [],
   "source": [
    "# Import required python libraries for processing\n",
    "import numpy  as np\n",
    "import pandas as pd\n"
   ]
  },
  {
   "cell_type": "code",
   "execution_count": 4,
   "metadata": {},
   "outputs": [
    {
     "name": "stdout",
     "output_type": "stream",
     "text": [
      "   StudentID   Age  Gender  Ethnicity  ParentalEducation  StudyTimeWeekly  \\\n",
      "0       1001  17.0       1          0                  2        19.833723   \n",
      "1       1002  18.0       0          0                  1        15.408756   \n",
      "2       1003  15.0       0          2                  3         4.210570   \n",
      "3       1004  17.0       1          0                  3        10.028829   \n",
      "4       1005  17.0       1          0                  2         4.672495   \n",
      "\n",
      "   Absences  Tutoring  ParentalSupport  Extracurricular  Sports  Music  \\\n",
      "0       7.0       1.0              2.0                0     0.0    1.0   \n",
      "1       0.0       0.0              1.0                0     0.0    0.0   \n",
      "2      26.0       0.0              2.0                0     0.0    0.0   \n",
      "3      14.0       0.0              3.0                1     0.0    0.0   \n",
      "4      17.0       1.0              3.0                0     0.0    0.0   \n",
      "\n",
      "   Volunteering       GPA  GradeClass  \n",
      "0             0  2.929196           2  \n",
      "1             0  3.042915           1  \n",
      "2             0  0.112602           4  \n",
      "3             0  2.054218           3  \n",
      "4             0  1.288061           4  \n"
     ]
    }
   ],
   "source": [
    "# load the csv file in a pandas data frame using function read_csv\n",
    "Student_df = pd.read_csv('Student_performance_data.csv')\n",
    "\n",
    "# print first 5 records of dataframe Student_df\n",
    "print(Student_df.head(5))\n",
    "\n"
   ]
  },
  {
   "cell_type": "code",
   "execution_count": 5,
   "metadata": {},
   "outputs": [
    {
     "name": "stdout",
     "output_type": "stream",
     "text": [
      "Index(['StudentID', 'Age', 'Gender', 'Ethnicity', 'ParentalEducation',\n",
      "       'StudyTimeWeekly', 'Absences', 'Tutoring', 'ParentalSupport',\n",
      "       'Extracurricular', 'Sports', 'Music', 'Volunteering', 'GPA',\n",
      "       'GradeClass'],\n",
      "      dtype='object')\n"
     ]
    }
   ],
   "source": [
    "# print only column heads\n",
    "Col_list = Student_df.columns\n",
    "print(Col_list)"
   ]
  },
  {
   "cell_type": "code",
   "execution_count": 21,
   "metadata": {},
   "outputs": [
    {
     "data": {
      "text/html": [
       "<div>\n",
       "<style scoped>\n",
       "    .dataframe tbody tr th:only-of-type {\n",
       "        vertical-align: middle;\n",
       "    }\n",
       "\n",
       "    .dataframe tbody tr th {\n",
       "        vertical-align: top;\n",
       "    }\n",
       "\n",
       "    .dataframe thead th {\n",
       "        text-align: right;\n",
       "    }\n",
       "</style>\n",
       "<table border=\"1\" class=\"dataframe\">\n",
       "  <thead>\n",
       "    <tr style=\"text-align: right;\">\n",
       "      <th></th>\n",
       "      <th>StudentID</th>\n",
       "      <th>Age</th>\n",
       "      <th>Gender</th>\n",
       "      <th>Ethnicity</th>\n",
       "      <th>ParentalEducation</th>\n",
       "      <th>StudyTimeWeekly</th>\n",
       "      <th>Absences</th>\n",
       "      <th>Tutoring</th>\n",
       "      <th>ParentalSupport</th>\n",
       "      <th>Extracurricular</th>\n",
       "      <th>Sports</th>\n",
       "      <th>Music</th>\n",
       "      <th>Volunteering</th>\n",
       "      <th>GPA</th>\n",
       "      <th>GradeClass</th>\n",
       "    </tr>\n",
       "  </thead>\n",
       "  <tbody>\n",
       "    <tr>\n",
       "      <th>count</th>\n",
       "      <td>2392.000000</td>\n",
       "      <td>2375.000000</td>\n",
       "      <td>2392.000000</td>\n",
       "      <td>2392.000000</td>\n",
       "      <td>2392.000000</td>\n",
       "      <td>2358.000000</td>\n",
       "      <td>2380.000000</td>\n",
       "      <td>2367.000000</td>\n",
       "      <td>2378.000000</td>\n",
       "      <td>2392.000000</td>\n",
       "      <td>2381.000000</td>\n",
       "      <td>2180.000000</td>\n",
       "      <td>2392.000000</td>\n",
       "      <td>2392.000000</td>\n",
       "      <td>2392.000000</td>\n",
       "    </tr>\n",
       "    <tr>\n",
       "      <th>mean</th>\n",
       "      <td>2196.500000</td>\n",
       "      <td>16.468632</td>\n",
       "      <td>0.510870</td>\n",
       "      <td>0.877508</td>\n",
       "      <td>1.746237</td>\n",
       "      <td>9.761567</td>\n",
       "      <td>14.546639</td>\n",
       "      <td>0.301225</td>\n",
       "      <td>2.122372</td>\n",
       "      <td>0.383361</td>\n",
       "      <td>0.303234</td>\n",
       "      <td>0.197248</td>\n",
       "      <td>0.157191</td>\n",
       "      <td>1.906186</td>\n",
       "      <td>2.983696</td>\n",
       "    </tr>\n",
       "    <tr>\n",
       "      <th>std</th>\n",
       "      <td>690.655244</td>\n",
       "      <td>1.124404</td>\n",
       "      <td>0.499986</td>\n",
       "      <td>1.028476</td>\n",
       "      <td>1.000411</td>\n",
       "      <td>5.658241</td>\n",
       "      <td>8.463651</td>\n",
       "      <td>0.458887</td>\n",
       "      <td>1.122941</td>\n",
       "      <td>0.486307</td>\n",
       "      <td>0.459752</td>\n",
       "      <td>0.398012</td>\n",
       "      <td>0.364057</td>\n",
       "      <td>0.915156</td>\n",
       "      <td>1.233908</td>\n",
       "    </tr>\n",
       "    <tr>\n",
       "      <th>min</th>\n",
       "      <td>1001.000000</td>\n",
       "      <td>15.000000</td>\n",
       "      <td>0.000000</td>\n",
       "      <td>0.000000</td>\n",
       "      <td>0.000000</td>\n",
       "      <td>0.001057</td>\n",
       "      <td>0.000000</td>\n",
       "      <td>0.000000</td>\n",
       "      <td>0.000000</td>\n",
       "      <td>0.000000</td>\n",
       "      <td>0.000000</td>\n",
       "      <td>0.000000</td>\n",
       "      <td>0.000000</td>\n",
       "      <td>0.000000</td>\n",
       "      <td>0.000000</td>\n",
       "    </tr>\n",
       "    <tr>\n",
       "      <th>25%</th>\n",
       "      <td>1598.750000</td>\n",
       "      <td>15.000000</td>\n",
       "      <td>0.000000</td>\n",
       "      <td>0.000000</td>\n",
       "      <td>1.000000</td>\n",
       "      <td>5.030526</td>\n",
       "      <td>7.000000</td>\n",
       "      <td>0.000000</td>\n",
       "      <td>1.000000</td>\n",
       "      <td>0.000000</td>\n",
       "      <td>0.000000</td>\n",
       "      <td>0.000000</td>\n",
       "      <td>0.000000</td>\n",
       "      <td>1.174803</td>\n",
       "      <td>2.000000</td>\n",
       "    </tr>\n",
       "    <tr>\n",
       "      <th>50%</th>\n",
       "      <td>2196.500000</td>\n",
       "      <td>16.000000</td>\n",
       "      <td>1.000000</td>\n",
       "      <td>0.000000</td>\n",
       "      <td>2.000000</td>\n",
       "      <td>9.653180</td>\n",
       "      <td>15.000000</td>\n",
       "      <td>0.000000</td>\n",
       "      <td>2.000000</td>\n",
       "      <td>0.000000</td>\n",
       "      <td>0.000000</td>\n",
       "      <td>0.000000</td>\n",
       "      <td>0.000000</td>\n",
       "      <td>1.893393</td>\n",
       "      <td>4.000000</td>\n",
       "    </tr>\n",
       "    <tr>\n",
       "      <th>75%</th>\n",
       "      <td>2794.250000</td>\n",
       "      <td>17.000000</td>\n",
       "      <td>1.000000</td>\n",
       "      <td>2.000000</td>\n",
       "      <td>2.000000</td>\n",
       "      <td>14.408107</td>\n",
       "      <td>22.000000</td>\n",
       "      <td>1.000000</td>\n",
       "      <td>3.000000</td>\n",
       "      <td>1.000000</td>\n",
       "      <td>1.000000</td>\n",
       "      <td>0.000000</td>\n",
       "      <td>0.000000</td>\n",
       "      <td>2.622216</td>\n",
       "      <td>4.000000</td>\n",
       "    </tr>\n",
       "    <tr>\n",
       "      <th>max</th>\n",
       "      <td>3392.000000</td>\n",
       "      <td>18.000000</td>\n",
       "      <td>1.000000</td>\n",
       "      <td>3.000000</td>\n",
       "      <td>4.000000</td>\n",
       "      <td>19.978094</td>\n",
       "      <td>29.000000</td>\n",
       "      <td>1.000000</td>\n",
       "      <td>4.000000</td>\n",
       "      <td>1.000000</td>\n",
       "      <td>1.000000</td>\n",
       "      <td>1.000000</td>\n",
       "      <td>1.000000</td>\n",
       "      <td>4.000000</td>\n",
       "      <td>4.000000</td>\n",
       "    </tr>\n",
       "  </tbody>\n",
       "</table>\n",
       "</div>"
      ],
      "text/plain": [
       "         StudentID          Age       Gender    Ethnicity  ParentalEducation  \\\n",
       "count  2392.000000  2375.000000  2392.000000  2392.000000        2392.000000   \n",
       "mean   2196.500000    16.468632     0.510870     0.877508           1.746237   \n",
       "std     690.655244     1.124404     0.499986     1.028476           1.000411   \n",
       "min    1001.000000    15.000000     0.000000     0.000000           0.000000   \n",
       "25%    1598.750000    15.000000     0.000000     0.000000           1.000000   \n",
       "50%    2196.500000    16.000000     1.000000     0.000000           2.000000   \n",
       "75%    2794.250000    17.000000     1.000000     2.000000           2.000000   \n",
       "max    3392.000000    18.000000     1.000000     3.000000           4.000000   \n",
       "\n",
       "       StudyTimeWeekly     Absences     Tutoring  ParentalSupport  \\\n",
       "count      2358.000000  2380.000000  2367.000000      2378.000000   \n",
       "mean          9.761567    14.546639     0.301225         2.122372   \n",
       "std           5.658241     8.463651     0.458887         1.122941   \n",
       "min           0.001057     0.000000     0.000000         0.000000   \n",
       "25%           5.030526     7.000000     0.000000         1.000000   \n",
       "50%           9.653180    15.000000     0.000000         2.000000   \n",
       "75%          14.408107    22.000000     1.000000         3.000000   \n",
       "max          19.978094    29.000000     1.000000         4.000000   \n",
       "\n",
       "       Extracurricular       Sports        Music  Volunteering          GPA  \\\n",
       "count      2392.000000  2381.000000  2180.000000   2392.000000  2392.000000   \n",
       "mean          0.383361     0.303234     0.197248      0.157191     1.906186   \n",
       "std           0.486307     0.459752     0.398012      0.364057     0.915156   \n",
       "min           0.000000     0.000000     0.000000      0.000000     0.000000   \n",
       "25%           0.000000     0.000000     0.000000      0.000000     1.174803   \n",
       "50%           0.000000     0.000000     0.000000      0.000000     1.893393   \n",
       "75%           1.000000     1.000000     0.000000      0.000000     2.622216   \n",
       "max           1.000000     1.000000     1.000000      1.000000     4.000000   \n",
       "\n",
       "        GradeClass  \n",
       "count  2392.000000  \n",
       "mean      2.983696  \n",
       "std       1.233908  \n",
       "min       0.000000  \n",
       "25%       2.000000  \n",
       "50%       4.000000  \n",
       "75%       4.000000  \n",
       "max       4.000000  "
      ]
     },
     "execution_count": 21,
     "metadata": {},
     "output_type": "execute_result"
    }
   ],
   "source": [
    "Student_df.describe()"
   ]
  },
  {
   "cell_type": "markdown",
   "metadata": {},
   "source": [
    "In quantative feature only GPA,Study TimeWeekly is continous other are discrete wholenumbers without fractions.\n",
    "The above function gives good insights about spread of Quantitative features "
   ]
  },
  {
   "cell_type": "code",
   "execution_count": 36,
   "metadata": {},
   "outputs": [
    {
     "name": "stdout",
     "output_type": "stream",
     "text": [
      "| Columns           | Type    | Binary   | Discrete_continous   | Reason                                                                                         |\n",
      "|:------------------|:--------|:---------|:---------------------|:-----------------------------------------------------------------------------------------------|\n",
      "| StudentID         | Nominal | False    | Discrete             | *Catergorical,Qualitative* *Discrete labels not ordered or ranked*                             |\n",
      "| Age               | Ratio   | False    | Discrete             | *Numerical,Quantative* *ordered units that have the same difference and zero reference.*       |\n",
      "| Gender            | Nominal | True     | Discrete             | *Catergorical,Qualitative* *Discrete labels not ordered or ranked*                             |\n",
      "| Ethnicity         | Nominal | False    | Discrete             | *Catergorical,Qualitative* *Discrete labels not ordered or ranked*                             |\n",
      "| ParentalEducation | Nominal | False    | Discrete             | *Catergorical,Qualitative* *Discrete labels not ordered or ranked*                             |\n",
      "| StudyTimeWeekly   | Ratio   | False    | Continous            | *Numerical,Quantative* *ordered units that have the same difference and zero reference.*       |\n",
      "| Absences          | Ratio   | False    | Discrete             | *Numerical,Quantative* *ordered units that have the same difference and zero reference.*       |\n",
      "| Tutoring          | Nominal | True     | Discrete             | *Catergorical,Qualitative* *Discrete labels not ordered or ranked*                             |\n",
      "| ParentalSupport   | Nominal | False    | Discrete             | *Catergorical,Qualitative* *Discrete labels not ordered or ranked*                             |\n",
      "| Extracurricular   | Nominal | True     | Discrete             | *Catergorical,Qualitative* *Discrete labels not ordered or ranked*                             |\n",
      "| Sports            | Nominal | True     | Discrete             | *Catergorical,Qualitative* *Discrete labels not ordered or ranked*                             |\n",
      "| Music             | Nominal | True     | Discrete             | *Catergorical,Qualitative* *Discrete labels not ordered or ranked*                             |\n",
      "| Volunteering      | Nominal | True     | Discrete             | *Catergorical,Qualitative* *Discrete labels not ordered or ranked*                             |\n",
      "| GPA               | Ratio   | False    | Continous            | *Numerical,Quantative* *ordered units that have the same difference and zero reference.*       |\n",
      "| GradeClass        | Ordinal | False    | Discrete             | *Catergorical,Qualitative* *Discrete labels with order, but no  same difference between order* |\n"
     ]
    }
   ],
   "source": [
    "#encoding  logic for column name and types of data\n",
    "task1_df = pd.DataFrame()\n",
    "task1_df['Columns']=Col_list\n",
    "Nominal ,Ratio,Ordinal,Interval,C,D= 'Nominal','Ratio','Ordinal','Interval','Continous','Discrete'\n",
    "task1_df['Type'] = [Nominal,Ratio,Nominal,Nominal,Nominal,Ratio,Ratio,Nominal,Nominal,Nominal,Nominal,Nominal,Nominal,Ratio,Ordinal]\n",
    "reason_tmp=[]\n",
    "task1_df['Binary']=[False,False,True,False,False,False,False,True,False,True,True,True,True,False,False]\n",
    "task1_df['Discrete_continous']=[D,D,D,D,D,C,D,D,D,D,D,D,D,C,D]\n",
    "for type,b in zip(task1_df['Type'],task1_df['Binary']) :\n",
    "    if type in [Nominal,Ordinal]:\n",
    "        Prefix ='*Catergorical,Qualitative*' \n",
    "        if type == Nominal:\n",
    "            order =\"*Discrete labels not ordered or ranked*\"\n",
    "        else:\n",
    "             order =\"*Discrete labels with order, but no  same difference between order* \"\n",
    "\n",
    "    else:\n",
    "        Prefix ='*Numerical,Quantative*'\n",
    "        if type == Ratio:\n",
    "            order =\"*ordered units that have the same difference and zero reference.* \"\n",
    "        else:\n",
    "             order =\"*ordered units that have the same difference and No zero reference. *\"\n",
    "    if b=='True':\n",
    "        Binary =\" *special features takes on binary values*\"\n",
    "    else:\n",
    "        Binary =' '\n",
    "    reason_tmp.append(Prefix + ' '+order + Binary)\n",
    "         \n",
    "task1_df['Reason'] =reason_tmp\n",
    "\n",
    "markdown_table = task1_df.to_markdown(index=False)\n",
    "print(markdown_table)"
   ]
  },
  {
   "cell_type": "markdown",
   "metadata": {},
   "source": [
    " <h1 style=\"background-color:#ff6347;\">Task 2<h1><br>\n",
    " <b>Name the attribute(s) which have missing data. How many data points are missing? How will you handle missing data ?</b>\n"
   ]
  },
  {
   "cell_type": "code",
   "execution_count": 39,
   "metadata": {},
   "outputs": [
    {
     "data": {
      "text/plain": [
       "(2392, 15)"
      ]
     },
     "execution_count": 39,
     "metadata": {},
     "output_type": "execute_result"
    }
   ],
   "source": [
    "Student_df.shape"
   ]
  },
  {
   "cell_type": "markdown",
   "metadata": {},
   "source": [
    "There are 2392 rows and 15 columns"
   ]
  },
  {
   "cell_type": "code",
   "execution_count": 38,
   "metadata": {},
   "outputs": [
    {
     "data": {
      "text/plain": [
       "StudentID            2392\n",
       "Age                  2375\n",
       "Gender               2392\n",
       "Ethnicity            2392\n",
       "ParentalEducation    2392\n",
       "StudyTimeWeekly      2358\n",
       "Absences             2380\n",
       "Tutoring             2367\n",
       "ParentalSupport      2378\n",
       "Extracurricular      2392\n",
       "Sports               2381\n",
       "Music                2180\n",
       "Volunteering         2392\n",
       "GPA                  2392\n",
       "GradeClass           2392\n",
       "dtype: int64"
      ]
     },
     "execution_count": 38,
     "metadata": {},
     "output_type": "execute_result"
    }
   ],
   "source": [
    "Student_df.count()"
   ]
  },
  {
   "cell_type": "markdown",
   "metadata": {},
   "source": [
    "We see that there are  2392 rows and columns like <b>Age,StudyTimeWeekly,Absences,Tutoring,ParentalSupport,Sports,Music </b>have missing value"
   ]
  },
  {
   "cell_type": "code",
   "execution_count": 45,
   "metadata": {},
   "outputs": [
    {
     "data": {
      "text/plain": [
       "StudentID              0\n",
       "Age                   17\n",
       "Gender                 0\n",
       "Ethnicity              0\n",
       "ParentalEducation      0\n",
       "StudyTimeWeekly       34\n",
       "Absences              12\n",
       "Tutoring              25\n",
       "ParentalSupport       14\n",
       "Extracurricular        0\n",
       "Sports                11\n",
       "Music                212\n",
       "Volunteering           0\n",
       "GPA                    0\n",
       "GradeClass             0\n",
       "dtype: int64"
      ]
     },
     "execution_count": 45,
     "metadata": {},
     "output_type": "execute_result"
    }
   ],
   "source": [
    "Student_df.isna().sum()"
   ]
  },
  {
   "cell_type": "markdown",
   "metadata": {},
   "source": [
    "The above table shows columns,missing values counts."
   ]
  },
  {
   "cell_type": "markdown",
   "metadata": {},
   "source": [
    "The missing values will be handled with technniques like\n",
    "1. Dropping rows with null values\n",
    "2. imputing rows with Zero,mean,median,mode,ramdom values."
   ]
  },
  {
   "cell_type": "markdown",
   "metadata": {},
   "source": [
    " <h1 style=\"background-color:#ff6347;\">Task 3<h1><br>\n",
    " <b>Identify the type of each of the attributes in the dataset</b>\n"
   ]
  },
  {
   "cell_type": "markdown",
   "metadata": {},
   "source": [
    "we will not use the strategy of dropping rows as there will be loss of training and testing data volume.<br>\n",
    "We will use different imutation technnique based on data type and domain context."
   ]
  },
  {
   "cell_type": "code",
   "execution_count": null,
   "metadata": {},
   "outputs": [],
   "source": []
  }
 ],
 "metadata": {
  "kernelspec": {
   "display_name": "base",
   "language": "python",
   "name": "python3"
  },
  "language_info": {
   "codemirror_mode": {
    "name": "ipython",
    "version": 3
   },
   "file_extension": ".py",
   "mimetype": "text/x-python",
   "name": "python",
   "nbconvert_exporter": "python",
   "pygments_lexer": "ipython3",
   "version": "3.11.7"
  }
 },
 "nbformat": 4,
 "nbformat_minor": 2
}
