{
 "cells": [
  {
   "cell_type": "code",
   "execution_count": 23,
   "metadata": {},
   "outputs": [],
   "source": [
    "##2023AIML573\n",
    "#Regression analysis mini project\n",
    "#Importing the libraries"
   ]
  },
  {
   "cell_type": "code",
   "execution_count": 24,
   "metadata": {},
   "outputs": [],
   "source": [
    "import pandas as pd\n",
    "import numpy as np\n",
    "import matplotlib.pyplot as plt \n",
    "import seaborn as sns "
   ]
  },
  {
   "cell_type": "markdown",
   "metadata": {},
   "source": [
    "Importing SK learn related libraries"
   ]
  },
  {
   "cell_type": "code",
   "execution_count": 25,
   "metadata": {},
   "outputs": [],
   "source": [
    "from sklearn.model_selection import train_test_split\n",
    "from sklearn.linear_model import LinearRegression\n",
    "from sklearn.metrics import mean_squared_error\n",
    "from sklearn.metrics import r2_score\n",
    "from sklearn.metrics import root_mean_squared_error"
   ]
  },
  {
   "cell_type": "markdown",
   "metadata": {},
   "source": [
    "Read Bag price data from Loacl folder BagDataset.csv"
   ]
  },
  {
   "cell_type": "code",
   "execution_count": 26,
   "metadata": {},
   "outputs": [
    {
     "name": "stdout",
     "output_type": "stream",
     "text": [
      "    Cost  Weight  Weight1  Length  Height   Width\n",
      "0  242.0    23.2     25.4    30.0   11.52  4.0200\n",
      "1  290.0    24.0     26.3    31.2   12.48  4.3056\n"
     ]
    }
   ],
   "source": [
    "# FILEPATH: /path/to/your/csv/file.csv\n",
    "BagDf = pd.read_csv('/home/preethi/Work/GITAIML/AIML/regression/BagDataset.csv')\n",
    "\n",
    "# Display the DataFrame\n",
    "print(BagDf.head(2))\n"
   ]
  },
  {
   "cell_type": "markdown",
   "metadata": {},
   "source": [
    "<H1><span style=\"color: Blue;\">1. Analyze the dataset and do EDA</span></H1>\n",
    "\n",
    "<H3>Start EDA steps to analyze and understand the data</H3>\n",
    "\n",
    "<span style=\"color: green;\">\n",
    "Step 1:</span> \n",
    "head(),tail(),describe(),shape,info(),value_counts(),groupby(),pivot_table(),corr()"
   ]
  },
  {
   "cell_type": "code",
   "execution_count": 27,
   "metadata": {},
   "outputs": [
    {
     "name": "stdout",
     "output_type": "stream",
     "text": [
      "    Cost  Weight  Weight1  Length   Height   Width\n",
      "0  242.0    23.2     25.4    30.0  11.5200  4.0200\n",
      "1  290.0    24.0     26.3    31.2  12.4800  4.3056\n",
      "2  340.0    23.9     26.5    31.1  12.3778  4.6961\n",
      "3  363.0    26.3     29.0    33.5  12.7300  4.4555\n",
      "4  430.0    26.5     29.0    34.0  12.4440  5.1340\n"
     ]
    }
   ],
   "source": [
    "print(BagDf.head(5))"
   ]
  },
  {
   "cell_type": "code",
   "execution_count": 28,
   "metadata": {},
   "outputs": [
    {
     "name": "stdout",
     "output_type": "stream",
     "text": [
      "     Cost  Weight  Weight1  Length  Height   Width\n",
      "154  12.2    11.5     12.2    13.4  2.0904  1.3936\n",
      "155  13.4    11.7     12.4    13.5  2.4300  1.2690\n",
      "156  12.2    12.1     13.0    13.8  2.2770  1.2558\n",
      "157  19.7    13.2     14.3    15.2  2.8728  2.0672\n",
      "158  19.9    13.8     15.0    16.2  2.9322  1.8792\n"
     ]
    }
   ],
   "source": [
    "print(BagDf.tail(5))"
   ]
  },
  {
   "cell_type": "code",
   "execution_count": 29,
   "metadata": {},
   "outputs": [
    {
     "name": "stdout",
     "output_type": "stream",
     "text": [
      "              Cost      Weight     Weight1      Length      Height       Width\n",
      "count   159.000000  159.000000  159.000000  159.000000  159.000000  159.000000\n",
      "mean    398.326415   26.247170   28.415723   31.227044    8.970994    4.417486\n",
      "std     357.978317    9.996441   10.716328   11.610246    4.286208    1.685804\n",
      "min       0.000000    7.500000    8.400000    8.800000    1.728400    1.047600\n",
      "25%     120.000000   19.050000   21.000000   23.150000    5.944800    3.385650\n",
      "50%     273.000000   25.200000   27.300000   29.400000    7.786000    4.248500\n",
      "75%     650.000000   32.700000   35.500000   39.650000   12.365900    5.584500\n",
      "max    1650.000000   59.000000   63.400000   68.000000   18.957000    8.142000\n"
     ]
    }
   ],
   "source": [
    "print(BagDf.describe())"
   ]
  },
  {
   "cell_type": "code",
   "execution_count": 30,
   "metadata": {},
   "outputs": [
    {
     "name": "stdout",
     "output_type": "stream",
     "text": [
      "<class 'pandas.core.frame.DataFrame'>\n",
      "RangeIndex: 159 entries, 0 to 158\n",
      "Data columns (total 6 columns):\n",
      " #   Column   Non-Null Count  Dtype  \n",
      "---  ------   --------------  -----  \n",
      " 0   Cost     159 non-null    float64\n",
      " 1   Weight   159 non-null    float64\n",
      " 2   Weight1  159 non-null    float64\n",
      " 3   Length   159 non-null    float64\n",
      " 4   Height   159 non-null    float64\n",
      " 5   Width    159 non-null    float64\n",
      "dtypes: float64(6)\n",
      "memory usage: 7.6 KB\n",
      "None\n"
     ]
    }
   ],
   "source": [
    "print(BagDf.info())"
   ]
  },
  {
   "cell_type": "markdown",
   "metadata": {},
   "source": [
    "Print shape to understand data set size and feature size"
   ]
  },
  {
   "cell_type": "code",
   "execution_count": 31,
   "metadata": {},
   "outputs": [
    {
     "name": "stdout",
     "output_type": "stream",
     "text": [
      "(159, 6)\n"
     ]
    }
   ],
   "source": [
    "print(BagDf.shape)"
   ]
  },
  {
   "cell_type": "markdown",
   "metadata": {},
   "source": [
    "#printing not null values count unique values\n",
    "with this we can get an overview of datavalues and  their distribution"
   ]
  },
  {
   "cell_type": "code",
   "execution_count": 32,
   "metadata": {},
   "outputs": [
    {
     "name": "stdout",
     "output_type": "stream",
     "text": [
      "Cost \n",
      " Cost\n",
      "300.0     6\n",
      "1000.0    5\n",
      "500.0     5\n",
      "120.0     5\n",
      "700.0     5\n",
      "         ..\n",
      "60.0      1\n",
      "55.0      1\n",
      "800.0     1\n",
      "306.0     1\n",
      "19.9      1\n",
      "Name: count, Length: 101, dtype: int64  weight \n",
      "Weight\n",
      "19.0    6\n",
      "20.0    5\n",
      "22.0    4\n",
      "20.5    4\n",
      "25.4    3\n",
      "       ..\n",
      "33.7    1\n",
      "25.6    1\n",
      "24.1    1\n",
      "22.1    1\n",
      "13.2    1\n",
      "Name: count, Length: 116, dtype: int64   Weight1\n",
      "Weight1\n",
      "22.0    7\n",
      "35.0    6\n",
      "22.5    5\n",
      "40.0    5\n",
      "21.0    4\n",
      "       ..\n",
      "19.6    1\n",
      "21.3    1\n",
      "22.7    1\n",
      "24.6    1\n",
      "14.3    1\n",
      "Name: count, Length: 93, dtype: int64  Length\n",
      "Length\n",
      "23.5    5\n",
      "25.0    3\n",
      "22.5    3\n",
      "34.0    3\n",
      "45.5    3\n",
      "       ..\n",
      "27.9    1\n",
      "26.8    1\n",
      "26.7    1\n",
      "27.2    1\n",
      "15.2    1\n",
      "Name: count, Length: 124, dtype: int64  Height\n",
      "Height\n",
      "11.1366    2\n",
      "5.6925     2\n",
      "2.2139     2\n",
      "6.1100     2\n",
      "9.6000     2\n",
      "          ..\n",
      "8.8768     1\n",
      "8.5680     1\n",
      "9.4850     1\n",
      "8.3804     1\n",
      "2.9322     1\n",
      "Name: count, Length: 154, dtype: int64  Width\n",
      "Width\n",
      "3.5250    3\n",
      "1.1484    2\n",
      "4.3350    2\n",
      "4.1440    2\n",
      "6.1440    2\n",
      "         ..\n",
      "3.9060    1\n",
      "4.4968    1\n",
      "4.7736    1\n",
      "5.3550    1\n",
      "1.8792    1\n",
      "Name: count, Length: 152, dtype: int64\n"
     ]
    }
   ],
   "source": [
    "#printing not null values count unique values\n",
    "value_counts_Cost = BagDf['Cost'].value_counts(dropna=True, sort=True)\n",
    "value_counts_Weight = BagDf['Weight'].value_counts(dropna=True, sort=True)\n",
    "value_counts_Weight1 = BagDf['Weight1'].value_counts(dropna=True, sort=True)\n",
    "value_counts_Length = BagDf['Length'].value_counts(dropna=True, sort=True)\n",
    "value_counts_Height = BagDf['Height'].value_counts(dropna=True, sort=True)\n",
    "value_counts_Width = BagDf['Width'].value_counts(dropna=True, sort=True)\n",
    "print(\"Cost \\n {}  weight \\n{}   Weight1\\n{}  Length\\n{}  Height\\n{}  Width\\n{}\".format(value_counts_Cost,value_counts_Weight,value_counts_Weight1,value_counts_Length,value_counts_Height,value_counts_Width))\n"
   ]
  },
  {
   "cell_type": "markdown",
   "metadata": {},
   "source": [
    "There is <span style=\"color: red;\">no categorical variable hence group by  & pivot_table might not give relevant insights</span>"
   ]
  },
  {
   "cell_type": "code",
   "execution_count": 33,
   "metadata": {},
   "outputs": [
    {
     "name": "stdout",
     "output_type": "stream",
     "text": [
      "        Weight  Weight1  Length   Height   Width\n",
      "Cost                                            \n",
      "0.0       19.0     20.5    22.8   6.4752  3.3516\n",
      "5.9        7.5      8.4     8.8   2.1120  1.4080\n",
      "6.7        9.3      9.8    10.8   1.7388  1.0476\n",
      "7.0       10.1     10.6    11.6   1.7284  1.1484\n",
      "7.5       10.0     10.5    11.6   1.9720  1.1600\n",
      "...        ...      ...     ...      ...     ...\n",
      "1100.0    39.0     42.0    44.6  12.8002  6.8684\n",
      "1250.0    52.0     56.0    59.7  10.6863  6.9849\n",
      "1550.0    56.0     60.0    64.0   9.6000  6.1440\n",
      "1600.0    56.0     60.0    64.0   9.6000  6.1440\n",
      "1650.0    59.0     63.4    68.0  10.8120  7.4800\n",
      "\n",
      "[101 rows x 5 columns]\n"
     ]
    }
   ],
   "source": [
    "print( BagDf.groupby(['Cost']).first())"
   ]
  },
  {
   "cell_type": "markdown",
   "metadata": {},
   "source": [
    "Get the correlation matrix"
   ]
  },
  {
   "cell_type": "code",
   "execution_count": 34,
   "metadata": {},
   "outputs": [
    {
     "name": "stdout",
     "output_type": "stream",
     "text": [
      "         Cost  Weight  Weight1  Length  Height  Width\n",
      "Cost     1.00    0.92     0.92    0.92    0.72   0.89\n",
      "Weight   0.92    1.00     1.00    0.99    0.63   0.87\n",
      "Weight1  0.92    1.00     1.00    0.99    0.64   0.87\n",
      "Length   0.92    0.99     0.99    1.00    0.70   0.88\n",
      "Height   0.72    0.63     0.64    0.70    1.00   0.79\n",
      "Width    0.89    0.87     0.87    0.88    0.79   1.00\n"
     ]
    }
   ],
   "source": [
    "correlation_matrix = BagDf.corr().round(2)\n",
    "print(correlation_matrix)"
   ]
  },
  {
   "cell_type": "markdown",
   "metadata": {},
   "source": [
    "<span style=\"color: green;\">From the correlation matrix we see the following insights</span>\n",
    "1. Cost of the bag is highly positively correlated to  weight,weight1,length,Heihgt,width   >0.7\n",
    "2. Weight1 & length are highly correlated to Weight(1,0.99). so instead of using mutiple feature they can be combined and single feature weight cab ebe used\n",
    "\n",
    "<span style=\"color: red;\">3. After dropping features weight1,length. we will have following feature weight,height,width</span>"
   ]
  },
  {
   "cell_type": "markdown",
   "metadata": {},
   "source": [
    "# Count the number of missing values in each column of the DataFrame"
   ]
  },
  {
   "cell_type": "code",
   "execution_count": 35,
   "metadata": {},
   "outputs": [
    {
     "name": "stdout",
     "output_type": "stream",
     "text": [
      "Cost       0\n",
      "Weight     0\n",
      "Weight1    0\n",
      "Length     0\n",
      "Height     0\n",
      "Width      0\n",
      "dtype: int64\n"
     ]
    }
   ],
   "source": [
    "null_counts = BagDf.isnull().sum() \n",
    "print(null_counts)"
   ]
  },
  {
   "cell_type": "markdown",
   "metadata": {},
   "source": [
    "This a clean data set with <span style=\"color: green;\">no null value.</span> so techiniques like imputing,row,column drop are not needed.\n",
    "dropna(),fillna(),replace(),duplicated(),drop_duplicates(),astype(), str.strip(),str.lower(), rename(),merge()  are not used as data is clean\n",
    "\n",
    "<h3>NO data cleaning activity is needed so not performed</h3>"
   ]
  },
  {
   "cell_type": "markdown",
   "metadata": {},
   "source": [
    "<H1><span style=\"color: blue;\">2. Plotting of various graphs & correlations </span></H1>"
   ]
  },
  {
   "cell_type": "markdown",
   "metadata": {},
   "source": [
    "<H3>step 1:</H3>\n",
    "Cost distribution via histogram"
   ]
  },
  {
   "cell_type": "code",
   "execution_count": 37,
   "metadata": {},
   "outputs": [
    {
     "data": {
      "image/png": "[encoded data removed]",
      "text/plain": [
       "<Figure size 1000x1000 with 1 Axes>"
      ]
     },
     "metadata": {},
     "output_type": "display_data"
    }
   ],
   "source": [
    "fig, ax = plt.subplots(figsize=(10,10)) \n",
    "plt.hist(data=BagDf, x='Cost', bins=10)\n",
    "plt.xlabel('Cost')\n",
    "plt.ylabel('freqyency')\n",
    "plt.title('Distribution of cost')\n",
    "plt.show()\n"
   ]
  },
  {
   "cell_type": "markdown",
   "metadata": {},
   "source": [
    "Cost is distributed half normal distribution with peak binned between 0-250 INR. 1500-1750 is an outlier in terms of frequency distribution"
   ]
  },
  {
   "cell_type": "markdown",
   "metadata": {},
   "source": [
    "<H3>step2 :</H3>\n",
    "Heat map for correlation matrix"
   ]
  },
  {
   "cell_type": "code",
   "execution_count": 38,
   "metadata": {},
   "outputs": [
    {
     "data": {
      "image/png": "[encoded data removed]",
      "text/plain": [
       "<Figure size 1600x500 with 2 Axes>"
      ]
     },
     "metadata": {},
     "output_type": "display_data"
    }
   ],
   "source": [
    "plt.figure(figsize = (16,5))\n",
    "ax = sns.heatmap(data=correlation_matrix, annot=True,linewidths=.5)\n",
    "plt.show()"
   ]
  },
  {
   "cell_type": "markdown",
   "metadata": {},
   "source": []
  }
 ],
 "metadata": {
  "kernelspec": {
   "display_name": "base",
   "language": "python",
   "name": "python3"
  },
  "language_info": {
   "codemirror_mode": {
    "name": "ipython",
    "version": 3
   },
   "file_extension": ".py",
   "mimetype": "text/x-python",
   "name": "python",
   "nbconvert_exporter": "python",
   "pygments_lexer": "ipython3",
   "version": "3.11.7"
  }
 },
 "nbformat": 4,
 "nbformat_minor": 2
}
