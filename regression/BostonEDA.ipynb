{
 "cells": [
  {
   "cell_type": "markdown",
   "metadata": {},
   "source": [
    "#import pandas"
   ]
  },
  {
   "cell_type": "code",
   "execution_count": 16,
   "metadata": {},
   "outputs": [],
   "source": [
    "import pandas as pd\n",
    "import numpy as np"
   ]
  },
  {
   "cell_type": "markdown",
   "metadata": {},
   "source": [
    "Read boston dataset"
   ]
  },
  {
   "cell_type": "code",
   "execution_count": 4,
   "metadata": {},
   "outputs": [
    {
     "name": "stdout",
     "output_type": "stream",
     "text": [
      "      CRIM    ZN  INDUS  CHAS    NOX     RM   AGE     DIS  RAD  TAX  PTRATIO  \\\n",
      "0  0.00632  18.0   2.31   0.0  0.538  6.575  65.2  4.0900    1  296     15.3   \n",
      "1  0.02731   0.0   7.07   0.0  0.469  6.421  78.9  4.9671    2  242     17.8   \n",
      "2  0.02729   0.0   7.07   0.0  0.469  7.185  61.1  4.9671    2  242     17.8   \n",
      "3  0.03237   0.0   2.18   0.0  0.458  6.998  45.8  6.0622    3  222     18.7   \n",
      "4  0.06905   0.0   2.18   0.0  0.458  7.147  54.2  6.0622    3  222     18.7   \n",
      "\n",
      "        B  LSTAT  MEDV  \n",
      "0  396.90   4.98  24.0  \n",
      "1  396.90   9.14  21.6  \n",
      "2  392.83   4.03  34.7  \n",
      "3  394.63   2.94  33.4  \n",
      "4  396.90    NaN  36.2  \n"
     ]
    }
   ],
   "source": [
    "\n",
    "\n",
    "\n",
    "# FILEPATH: /path/to/your/csv/file.csv\n",
    "bostonDf = pd.read_csv('HousingData.csv')\n",
    "\n",
    "# Display the DataFrame\n",
    "print(bostonDf.head(5))\n"
   ]
  },
  {
   "cell_type": "markdown",
   "metadata": {},
   "source": [
    "Overview of data"
   ]
  },
  {
   "cell_type": "code",
   "execution_count": 5,
   "metadata": {},
   "outputs": [
    {
     "name": "stdout",
     "output_type": "stream",
     "text": [
      "<class 'pandas.core.frame.DataFrame'>\n",
      "RangeIndex: 506 entries, 0 to 505\n",
      "Data columns (total 14 columns):\n",
      " #   Column   Non-Null Count  Dtype  \n",
      "---  ------   --------------  -----  \n",
      " 0   CRIM     486 non-null    float64\n",
      " 1   ZN       486 non-null    float64\n",
      " 2   INDUS    486 non-null    float64\n",
      " 3   CHAS     486 non-null    float64\n",
      " 4   NOX      506 non-null    float64\n",
      " 5   RM       506 non-null    float64\n",
      " 6   AGE      486 non-null    float64\n",
      " 7   DIS      506 non-null    float64\n",
      " 8   RAD      506 non-null    int64  \n",
      " 9   TAX      506 non-null    int64  \n",
      " 10  PTRATIO  506 non-null    float64\n",
      " 11  B        506 non-null    float64\n",
      " 12  LSTAT    486 non-null    float64\n",
      " 13  MEDV     506 non-null    float64\n",
      "dtypes: float64(12), int64(2)\n",
      "memory usage: 55.5 KB\n",
      "None\n",
      "             CRIM          ZN       INDUS        CHAS         NOX          RM  \\\n",
      "count  486.000000  486.000000  486.000000  486.000000  506.000000  506.000000   \n",
      "mean     3.611874   11.211934   11.083992    0.069959    0.554695    6.284634   \n",
      "std      8.720192   23.388876    6.835896    0.255340    0.115878    0.702617   \n",
      "min      0.006320    0.000000    0.460000    0.000000    0.385000    3.561000   \n",
      "25%      0.081900    0.000000    5.190000    0.000000    0.449000    5.885500   \n",
      "50%      0.253715    0.000000    9.690000    0.000000    0.538000    6.208500   \n",
      "75%      3.560263   12.500000   18.100000    0.000000    0.624000    6.623500   \n",
      "max     88.976200  100.000000   27.740000    1.000000    0.871000    8.780000   \n",
      "\n",
      "              AGE         DIS         RAD         TAX     PTRATIO           B  \\\n",
      "count  486.000000  506.000000  506.000000  506.000000  506.000000  506.000000   \n",
      "mean    68.518519    3.795043    9.549407  408.237154   18.455534  356.674032   \n",
      "std     27.999513    2.105710    8.707259  168.537116    2.164946   91.294864   \n",
      "min      2.900000    1.129600    1.000000  187.000000   12.600000    0.320000   \n",
      "25%     45.175000    2.100175    4.000000  279.000000   17.400000  375.377500   \n",
      "50%     76.800000    3.207450    5.000000  330.000000   19.050000  391.440000   \n",
      "75%     93.975000    5.188425   24.000000  666.000000   20.200000  396.225000   \n",
      "max    100.000000   12.126500   24.000000  711.000000   22.000000  396.900000   \n",
      "\n",
      "            LSTAT        MEDV  \n",
      "count  486.000000  506.000000  \n",
      "mean    12.715432   22.532806  \n",
      "std      7.155871    9.197104  \n",
      "min      1.730000    5.000000  \n",
      "25%      7.125000   17.025000  \n",
      "50%     11.430000   21.200000  \n",
      "75%     16.955000   25.000000  \n",
      "max     37.970000   50.000000  \n"
     ]
    }
   ],
   "source": [
    "print(bostonDf.info())\n",
    "print(bostonDf.describe())"
   ]
  },
  {
   "cell_type": "markdown",
   "metadata": {},
   "source": [
    "Check data for null values"
   ]
  },
  {
   "cell_type": "code",
   "execution_count": 25,
   "metadata": {},
   "outputs": [
    {
     "name": "stdout",
     "output_type": "stream",
     "text": [
      "CRIM       20\n",
      "ZN         20\n",
      "INDUS      20\n",
      "CHAS       20\n",
      "NOX         0\n",
      "RM          0\n",
      "AGE        20\n",
      "DIS         0\n",
      "RAD         0\n",
      "TAX         0\n",
      "PTRATIO     0\n",
      "B           0\n",
      "LSTAT      20\n",
      "MEDV        0\n",
      "dtype: int64\n",
      "       CRIM    ZN  INDUS  CHAS    NOX     RM   AGE     DIS  RAD  TAX  PTRATIO  \\\n",
      "4   0.06905   0.0   2.18   0.0  0.458  7.147  54.2  6.0622    3  222     18.7   \n",
      "6   0.08829  12.5   7.87   NaN  0.524  6.012  66.6  5.5605    5  311     15.2   \n",
      "9   0.17004  12.5   7.87   NaN  0.524  6.004  85.9  6.5921    5  311     15.2   \n",
      "14  0.63796   0.0   8.14   NaN  0.538  6.096  84.5  4.4619    4  307     21.0   \n",
      "35  0.06417   0.0   5.96   0.0  0.499  5.933  68.2  3.3603    5  279     19.2   \n",
      "\n",
      "         B  LSTAT  MEDV  \n",
      "4   396.90    NaN  36.2  \n",
      "6   395.60  12.43  22.9  \n",
      "9   386.71  17.10  18.9  \n",
      "14  380.02  10.26  18.2  \n",
      "35  396.90    NaN  18.9  \n",
      "(112, 14)\n"
     ]
    }
   ],
   "source": [
    "null_counts = np.isnan(bostonDf).sum() # Count the number of missing values in each column of the DataFrame\n",
    "\n",
    "print(null_counts)\n",
    "\n",
    "null_rows = bostonDf[np.isnan(bostonDf).any(axis=1)]\n",
    "print(null_rows.head(5))\n",
    "print(null_rows.shape)\n"
   ]
  },
  {
   "cell_type": "code",
   "execution_count": 26,
   "metadata": {},
   "outputs": [
    {
     "name": "stdout",
     "output_type": "stream",
     "text": [
      "CRIM       20\n",
      "ZN         20\n",
      "INDUS      20\n",
      "CHAS       20\n",
      "NOX         0\n",
      "RM          0\n",
      "AGE        20\n",
      "DIS         0\n",
      "RAD         0\n",
      "TAX         0\n",
      "PTRATIO     0\n",
      "B           0\n",
      "LSTAT      20\n",
      "MEDV        0\n",
      "dtype: int64\n",
      "       CRIM    ZN  INDUS  CHAS    NOX     RM   AGE     DIS  RAD  TAX  PTRATIO  \\\n",
      "4   0.06905   0.0   2.18   0.0  0.458  7.147  54.2  6.0622    3  222     18.7   \n",
      "6   0.08829  12.5   7.87   NaN  0.524  6.012  66.6  5.5605    5  311     15.2   \n",
      "9   0.17004  12.5   7.87   NaN  0.524  6.004  85.9  6.5921    5  311     15.2   \n",
      "14  0.63796   0.0   8.14   NaN  0.538  6.096  84.5  4.4619    4  307     21.0   \n",
      "35  0.06417   0.0   5.96   0.0  0.499  5.933  68.2  3.3603    5  279     19.2   \n",
      "\n",
      "         B  LSTAT  MEDV  \n",
      "4   396.90    NaN  36.2  \n",
      "6   395.60  12.43  22.9  \n",
      "9   386.71  17.10  18.9  \n",
      "14  380.02  10.26  18.2  \n",
      "35  396.90    NaN  18.9  \n",
      "(112, 14)\n"
     ]
    }
   ],
   "source": [
    "null_counts = bostonDf.isnull().sum() # Count the number of missing values in each column of the DataFrame\n",
    "print(null_counts)\n",
    "\n",
    "null_rows = bostonDf[bostonDf.isnull().any(axis=1)]\n",
    "print(null_rows.head(5))\n",
    "print(null_rows.shape)\n"
   ]
  },
  {
   "cell_type": "markdown",
   "metadata": {},
   "source": [
    "Data cleaning\n",
    "Column suitable for imputing with mean : CRIM ZN INDUS AGE LSTAT\n",
    "column suitable for imputing with 0 :  CHAS\n",
    "Not dropping any rows with null as already dataset is small."
   ]
  },
  {
   "cell_type": "code",
   "execution_count": 28,
   "metadata": {},
   "outputs": [
    {
     "name": "stdout",
     "output_type": "stream",
     "text": [
      "CRIM       0\n",
      "ZN         0\n",
      "INDUS      0\n",
      "CHAS       0\n",
      "NOX        0\n",
      "RM         0\n",
      "AGE        0\n",
      "DIS        0\n",
      "RAD        0\n",
      "TAX        0\n",
      "PTRATIO    0\n",
      "B          0\n",
      "LSTAT      0\n",
      "MEDV       0\n",
      "dtype: int64\n"
     ]
    }
   ],
   "source": [
    "#bostonDf.dropna(inplace=True)# Drop rows with missing values\n",
    "#bostonDf.dropna(axis=1, inplace=True)# Drop columns with missing values\n",
    "bostonDf['CHAS'].fillna(0, inplace=True)# Fill missing values with 0 for CHAS column\n",
    "# fillmissing values withmean for columns CRIM ZN INDUS AGE LSTAT\n",
    "bostonDf['CRIM'].fillna(bostonDf['CRIM'].mean(), inplace=True)\n",
    "bostonDf['ZN'].fillna(bostonDf['ZN'].mean(), inplace=True)\n",
    "bostonDf['INDUS'].fillna(bostonDf['INDUS'].mean(), inplace=True)\n",
    "bostonDf['AGE'].fillna(bostonDf['AGE'].mean(), inplace=True)\n",
    "bostonDf['LSTAT'].fillna(bostonDf['LSTAT'].mean(), inplace=True)\n",
    "\n",
    "null_counts = bostonDf.isnull().sum() # Count the number of missing values in each column of the DataFrame\n",
    "print(null_counts)\n"
   ]
  }
 ],
 "metadata": {
  "kernelspec": {
   "display_name": "Python 3",
   "language": "python",
   "name": "python3"
  },
  "language_info": {
   "codemirror_mode": {
    "name": "ipython",
    "version": 3
   },
   "file_extension": ".py",
   "mimetype": "text/x-python",
   "name": "python",
   "nbconvert_exporter": "python",
   "pygments_lexer": "ipython3",
   "version": "3.11.7"
  }
 },
 "nbformat": 4,
 "nbformat_minor": 2
}
